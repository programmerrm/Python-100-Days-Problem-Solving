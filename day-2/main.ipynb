{
 "cells": [
  {
   "cell_type": "code",
   "execution_count": null,
   "id": "0f7c7b56",
   "metadata": {},
   "outputs": [],
   "source": [
    "# 🧠 Problem: Palindrome Number\n",
    "\n",
    "def is_palindrome(value: int) -> bool:\n",
    "    is_str = str(value).lower()\n",
    "    return is_str == is_str[::-1]\n",
    "\n",
    "def main():\n",
    "    try:\n",
    "        number = int(input('Enter your palindrome number check : '))\n",
    "        if is_palindrome(number):\n",
    "            print(f'{number} is a palindrome number.')\n",
    "        else:\n",
    "            print(f'{number} is not a palindrome number!')\n",
    "    except ValueError:\n",
    "        print('Input is not a valid number!')\n",
    "\n",
    "if __name__ == '__main__':\n",
    "    main()"
   ]
  },
  {
   "cell_type": "code",
   "execution_count": null,
   "id": "2adde975",
   "metadata": {},
   "outputs": [],
   "source": [
    "# 🧠 Problem: Palindrome Text\n",
    "\n",
    "def is_palindrome(text: str) -> bool:\n",
    "    is_str = text.lower()\n",
    "    return is_str == is_str[::-1]\n",
    "\n",
    "def main():\n",
    "    try:\n",
    "        text = str(input('Enter your palindrome text check : '))\n",
    "        if text.isalpha():\n",
    "            if is_palindrome(text):\n",
    "                print(f'{text} is a palindrome text.')\n",
    "            else:\n",
    "                print(f'{text} is not a palindrome text.')\n",
    "        else:\n",
    "            print('Please enter only alphabetic text without digits or special characters!')\n",
    "    except ValueError:\n",
    "        print('Input is not a valid text!')\n",
    "\n",
    "if __name__ == '__main__':\n",
    "    main()"
   ]
  },
  {
   "cell_type": "code",
   "execution_count": 31,
   "id": "33805f9d",
   "metadata": {},
   "outputs": [
    {
     "name": "stdout",
     "output_type": "stream",
     "text": [
      "Even numbers: 5\n",
      "Odd numbers: 5\n"
     ]
    }
   ],
   "source": [
    "# 🧠 Problem: Even or Odd Counter\n",
    "\n",
    "def is_even_or_odd(values: list) -> tuple:\n",
    "    even_count = 0\n",
    "    odd_count = 0\n",
    "    for x in values:\n",
    "        if isinstance(x, int) and not isinstance(x, bool):\n",
    "            if x % 2 == 0:\n",
    "                even_count += 1\n",
    "            else:\n",
    "                odd_count += 1\n",
    "\n",
    "    return even_count, odd_count\n",
    "\n",
    "def main():\n",
    "    numbers = [1, 2, 3, 'rasel', 4, 5, 6, True, 7, 8, False, 9, 10]\n",
    "    even, odd = is_even_or_odd(numbers)\n",
    "    print(f'Even numbers: {even}')\n",
    "    print(f'Odd numbers: {odd}')\n",
    "\n",
    "if __name__ == '__main__':\n",
    "    main()\n"
   ]
  },
  {
   "cell_type": "code",
   "execution_count": 32,
   "id": "c9d654d6",
   "metadata": {},
   "outputs": [
    {
     "name": "stdout",
     "output_type": "stream",
     "text": [
      "Even numbers: 5\n",
      "Odd numbers: 5\n"
     ]
    }
   ],
   "source": [
    "# 🧠 Problem: Even or Odd Counter\n",
    "\n",
    "def is_even_or_odd(values: list) -> tuple:\n",
    "    even_count = 0\n",
    "    odd_count = 0\n",
    "\n",
    "    for x in values:\n",
    "        if isinstance(x, int) and not isinstance(x, bool):\n",
    "            if x % 2 == 0:\n",
    "                even_count += 1\n",
    "            else:\n",
    "                odd_count += 1\n",
    "\n",
    "    return even_count, odd_count\n",
    "\n",
    "def main():\n",
    "    numbers = []\n",
    "    while True:\n",
    "        try:\n",
    "            user_input = input('Enter a number (or type \"done\" to finish) : ')\n",
    "            if user_input.lower() == 'done':\n",
    "                break\n",
    "            number = int(user_input)\n",
    "            numbers.append(number)\n",
    "        except ValueError:\n",
    "            print('Input is not a valid number!')\n",
    "        \n",
    "    even, odd = is_even_or_odd(numbers)\n",
    "    print(f'Even numbers: {even}')\n",
    "    print(f'Odd numbers: {odd}')\n",
    "\n",
    "if __name__ == '__main__':\n",
    "    main()\n"
   ]
  }
 ],
 "metadata": {
  "kernelspec": {
   "display_name": "Python 3",
   "language": "python",
   "name": "python3"
  },
  "language_info": {
   "codemirror_mode": {
    "name": "ipython",
    "version": 3
   },
   "file_extension": ".py",
   "mimetype": "text/x-python",
   "name": "python",
   "nbconvert_exporter": "python",
   "pygments_lexer": "ipython3",
   "version": "3.13.1"
  }
 },
 "nbformat": 4,
 "nbformat_minor": 5
}
