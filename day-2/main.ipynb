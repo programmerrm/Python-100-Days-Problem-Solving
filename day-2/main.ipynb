{
 "cells": [
  {
   "cell_type": "code",
   "execution_count": null,
   "id": "0f7c7b56",
   "metadata": {},
   "outputs": [],
   "source": [
    "# 🧠 Problem: Palindrome Number\n",
    "\n",
    "def is_palindrome(value: int) -> bool:\n",
    "    is_str = str(value).lower()\n",
    "    return is_str == is_str[::-1]\n",
    "\n",
    "def main():\n",
    "    try:\n",
    "        number = int(input('Enter your palindrome number check : '))\n",
    "        if is_palindrome(number):\n",
    "            print(f'{number} is a palindrome number.')\n",
    "        else:\n",
    "            print(f'{number} is not a palindrome number!')\n",
    "    except ValueError:\n",
    "        print('Input is not a valid number!')\n",
    "\n",
    "if __name__ == '__main__':\n",
    "    main()"
   ]
  },
  {
   "cell_type": "code",
   "execution_count": null,
   "id": "2adde975",
   "metadata": {},
   "outputs": [],
   "source": [
    "# 🧠 Problem: Palindrome Text\n",
    "\n",
    "def is_palindrome(text: str) -> bool:\n",
    "    is_str = text.lower()\n",
    "    return is_str == is_str[::-1]\n",
    "\n",
    "def main():\n",
    "    try:\n",
    "        text = str(input('Enter your palindrome text check : '))\n",
    "        if text.isalpha():\n",
    "            if is_palindrome(text):\n",
    "                print(f'{text} is a palindrome text.')\n",
    "            else:\n",
    "                print(f'{text} is not a palindrome text.')\n",
    "        else:\n",
    "            print('Please enter only alphabetic text without digits or special characters!')\n",
    "    except ValueError:\n",
    "        print('Input is not a valid text!')\n",
    "\n",
    "if __name__ == '__main__':\n",
    "    main()"
   ]
  }
 ],
 "metadata": {
  "language_info": {
   "name": "python"
  }
 },
 "nbformat": 4,
 "nbformat_minor": 5
}
