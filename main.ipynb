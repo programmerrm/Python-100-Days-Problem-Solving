{
 "cells": [
  {
   "cell_type": "code",
   "execution_count": 22,
   "metadata": {},
   "outputs": [
    {
     "name": "stdout",
     "output_type": "stream",
     "text": [
      "lesaR\n",
      "dumhaM\n"
     ]
    }
   ],
   "source": [
    "\"\"\" PROBLEM ONE ==== Reverse a String (Easy - String Manipulation) \"\"\"\n",
    "\n",
    "\"\"\" WAY ONE \"\"\"\n",
    "string = \"Rasel\"\n",
    "reverseString = string[::-1]\n",
    "\n",
    "print(reverseString)\n",
    "\n",
    "\"\"\" WAY TWO \"\"\"\n",
    "inputString = input(str(\"Enter a string:\"))\n",
    "reverseString = ''.join(reversed(inputString))\n",
    "\n",
    "print(reverseString)"
   ]
  },
  {
   "cell_type": "code",
   "execution_count": 23,
   "metadata": {},
   "outputs": [
    {
     "name": "stdout",
     "output_type": "stream",
     "text": [
      "The missing number is: 3\n"
     ]
    }
   ],
   "source": [
    "\"\"\" PROBLEM TWO ==== Find the Missing Number (Easy - Array & Math) \"\"\"\n",
    "\n",
    "\"\"\" WAY ONE \"\"\"\n",
    "number = [1, 2, 4, 5]\n",
    "total_sum = sum(range(1, max(number) + 1))\n",
    "\n",
    "array_sum = sum(number)\n",
    "\n",
    "missing_number = total_sum - array_sum\n",
    "\n",
    "print(\"The missing number is:\", missing_number)\n"
   ]
  }
 ],
 "metadata": {
  "kernelspec": {
   "display_name": "Python 3",
   "language": "python",
   "name": "python3"
  },
  "language_info": {
   "codemirror_mode": {
    "name": "ipython",
    "version": 3
   },
   "file_extension": ".py",
   "mimetype": "text/x-python",
   "name": "python",
   "nbconvert_exporter": "python",
   "pygments_lexer": "ipython3",
   "version": "3.13.1"
  }
 },
 "nbformat": 4,
 "nbformat_minor": 2
}
