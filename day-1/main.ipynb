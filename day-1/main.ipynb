{
 "cells": [
  {
   "cell_type": "code",
   "execution_count": null,
   "metadata": {},
   "outputs": [],
   "source": [
    "# Check if a number is even or odd\n",
    "def is_check_even_or_odd(number: int) -> bool:\n",
    "    return number % 2 == 0\n",
    "\n",
    "def is_user_input():\n",
    "    try:\n",
    "        user_input = int(input('Enter a any number and that number check even or odd!'))\n",
    "        if is_check_even_or_odd(user_input):\n",
    "            print(f'This {user_input} number is a even.')\n",
    "        else:\n",
    "            print(f'This {user_input} number is a odd.')\n",
    "    except ValueError:\n",
    "        print('This input is not a valid number.')\n",
    "\n",
    "def main():\n",
    "    is_user_input()\n",
    "\n",
    "if __name__ == '__main__':\n",
    "    main()\n"
   ]
  },
  {
   "cell_type": "code",
   "execution_count": null,
   "metadata": {},
   "outputs": [],
   "source": [
    "# Check if a number list is even or odd\n",
    "numbers = [1, 2, 3, 4, 5, 6, 7, 8, 9, 10]\n",
    "\n",
    "def is_check_even_or_odd(number: int) -> str:\n",
    "    if number % 2 == 0:\n",
    "        return f'{number} is even'\n",
    "    else:\n",
    "        return f'{number} is odd'\n",
    "\n",
    "def main():\n",
    "    for num in numbers:\n",
    "        result = is_check_even_or_odd(num)\n",
    "        print(result)\n",
    "\n",
    "if __name__ == '__main__':\n",
    "    main()\n"
   ]
  },
  {
   "cell_type": "code",
   "execution_count": 15,
   "metadata": {},
   "outputs": [
    {
     "name": "stdout",
     "output_type": "stream",
     "text": [
      "Even number of list : [2, 4, 6, 8, 10].\n",
      "Odd number of list : [1, 3, 5, 7, 9].\n"
     ]
    }
   ],
   "source": [
    "# Check user number list is even or odd\n",
    "\n",
    "def is_check_even_or_odd(number: int) -> bool:\n",
    "    return number % 2 == 0\n",
    "\n",
    "def is_user_input() -> list:\n",
    "    numbers = []\n",
    "    while True:\n",
    "        try:\n",
    "            user_input = input('Enter a number (or type \"done\" to finish) : ')\n",
    "            if user_input.lower() == 'finish':\n",
    "                break\n",
    "            number = int(user_input)\n",
    "            numbers.append(number)\n",
    "        except ValueError:\n",
    "            print('Input is  not a valid number!')\n",
    "    return numbers\n",
    "\n",
    "def main():\n",
    "    numbers = is_user_input()\n",
    "    even = []\n",
    "    odd = []\n",
    "    for num in numbers:\n",
    "        if is_check_even_or_odd(num):\n",
    "            even.append(num)\n",
    "        else:\n",
    "            odd.append(num)\n",
    "    \n",
    "    print(f'Even number of list : {even}.')\n",
    "    print(f'Odd number of list : {odd}.')\n",
    "\n",
    "if __name__ == '__main__':\n",
    "    main()\n",
    "    "
   ]
  }
 ],
 "metadata": {
  "kernelspec": {
   "display_name": "Python 3",
   "language": "python",
   "name": "python3"
  },
  "language_info": {
   "codemirror_mode": {
    "name": "ipython",
    "version": 3
   },
   "file_extension": ".py",
   "mimetype": "text/x-python",
   "name": "python",
   "nbconvert_exporter": "python",
   "pygments_lexer": "ipython3",
   "version": "3.13.1"
  }
 },
 "nbformat": 4,
 "nbformat_minor": 2
}
