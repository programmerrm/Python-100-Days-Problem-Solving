{
 "cells": [
  {
   "cell_type": "code",
   "execution_count": 148,
   "metadata": {},
   "outputs": [
    {
     "data": {
      "text/plain": [
       "' WAY TWO '"
      ]
     },
     "execution_count": 148,
     "metadata": {},
     "output_type": "execute_result"
    }
   ],
   "source": [
    "\"\"\" PROBLEM ONE ==== Reverse a String (Easy - String Manipulation) \"\"\"\n",
    "\n",
    "\"\"\" WAY ONE \"\"\"\n",
    "# string = \"Rasel\"\n",
    "# reverseString = string[::-1]\n",
    "\n",
    "# print(reverseString)\n",
    "\n",
    "\"\"\" WAY TWO \"\"\"\n",
    "# inputString = input(str(\"Enter a string:\"))\n",
    "# reverseString = ''.join(reversed(inputString))\n",
    "\n",
    "# print(reverseString)"
   ]
  },
  {
   "cell_type": "code",
   "execution_count": 149,
   "metadata": {},
   "outputs": [
    {
     "data": {
      "text/plain": [
       "' WAY ONE '"
      ]
     },
     "execution_count": 149,
     "metadata": {},
     "output_type": "execute_result"
    }
   ],
   "source": [
    "\"\"\" PROBLEM TWO ==== Find the Missing Number (Easy - Array & Math) \"\"\"\n",
    "\n",
    "\"\"\" WAY ONE \"\"\"\n",
    "# number = [1, 2, 4, 5]\n",
    "# total_sum = sum(range(1, max(number) + 1))\n",
    "\n",
    "# array_sum = sum(number)\n",
    "\n",
    "# missing_number = total_sum - array_sum\n",
    "\n",
    "# print(\"The missing number is:\", missing_number)\n"
   ]
  },
  {
   "cell_type": "code",
   "execution_count": 150,
   "metadata": {},
   "outputs": [],
   "source": [
    "# 🧠 Problem: Palindrome Number\n",
    "\n",
    "# def is_palindrome(value: int) -> bool:\n",
    "#     is_str = str(value).lower()\n",
    "#     return is_str == is_str[::-1]\n",
    "\n",
    "# def main():\n",
    "#     try:\n",
    "#         number = int(input('Enter your palindrome number check : '))\n",
    "#         if is_palindrome(number):\n",
    "#             print(f'{number} is a palindrome number.')\n",
    "#         else:\n",
    "#             print(f'{number} is not a palindrome number!')\n",
    "#     except ValueError:\n",
    "#         print('Input is not a valid number!')\n",
    "\n",
    "# if __name__ == '__main__':\n",
    "#     main()\n"
   ]
  },
  {
   "cell_type": "code",
   "execution_count": 151,
   "metadata": {},
   "outputs": [
    {
     "name": "stdout",
     "output_type": "stream",
     "text": [
      "MaDam is a palindrome text.\n"
     ]
    }
   ],
   "source": [
    "# 🧠 Problem: Palindrome Text\n",
    "\n",
    "def is_palindrome(text: str) -> bool:\n",
    "    is_str = text.lower()\n",
    "    return is_str == is_str[::-1]\n",
    "\n",
    "def main():\n",
    "    try:\n",
    "        text = str(input('Enter your palindrome text check : '))\n",
    "        if text.isalpha():\n",
    "            if is_palindrome(text):\n",
    "                print(f'{text} is a palindrome text.')\n",
    "            else:\n",
    "                print(f'{text} is not a palindrome text.')\n",
    "        else:\n",
    "            print('Please enter only alphabetic text without digits or special characters!')\n",
    "    except ValueError:\n",
    "        print('Input is not a valid text!')\n",
    "\n",
    "if __name__ == '__main__':\n",
    "    main()\n"
   ]
  }
 ],
 "metadata": {
  "kernelspec": {
   "display_name": "Python 3",
   "language": "python",
   "name": "python3"
  },
  "language_info": {
   "codemirror_mode": {
    "name": "ipython",
    "version": 3
   },
   "file_extension": ".py",
   "mimetype": "text/x-python",
   "name": "python",
   "nbconvert_exporter": "python",
   "pygments_lexer": "ipython3",
   "version": "3.13.1"
  }
 },
 "nbformat": 4,
 "nbformat_minor": 2
}
